{
 "cells": [
  {
   "cell_type": "code",
   "execution_count": 1,
   "metadata": {},
   "outputs": [],
   "source": [
    "import threading"
   ]
  },
  {
   "cell_type": "code",
   "execution_count": 2,
   "metadata": {},
   "outputs": [],
   "source": [
    "def telecharger_fichier(url):\n",
    "\tprint(\"Téléchargement de {}\".format(url))\n",
    "\t# Ici, on simule un téléchargement en attendant 1 seconde\n",
    "\timport time\n",
    "\ttime.sleep(1)\n",
    "\tprint(\"Téléchargement de {} terminé\".format(url))"
   ]
  },
  {
   "cell_type": "code",
   "execution_count": 3,
   "metadata": {},
   "outputs": [],
   "source": [
    "thread1 = threading.Thread(target=telecharger_fichier, args=(\"http://example.com/fichier1.txt\",))\n",
    "thread2 = threading.Thread(target=telecharger_fichier, args=(\"http://example.com/fichier1.txt\",))\n",
    "thread3 = threading.Thread(target=telecharger_fichier, args=(\"http://example.com/fichier1.txt\",))\n",
    "thread4 = threading.Thread(target=telecharger_fichier, args=(\"http://example.com/fichier1.txt\",))\n",
    "thread5 = threading.Thread(target=telecharger_fichier, args=(\"http://example.com/fichier1.txt\",))\n",
    "thread6 = threading.Thread(target=telecharger_fichier, args=(\"http://example.com/fichier1.txt\",))"
   ]
  },
  {
   "cell_type": "code",
   "execution_count": 4,
   "metadata": {},
   "outputs": [
    {
     "name": "stdout",
     "output_type": "stream",
     "text": [
      "Téléchargement de http://example.com/fichier1.txtTéléchargement de http://example.com/fichier1.txt\n",
      "\n",
      "Téléchargement de http://example.com/fichier1.txt\n",
      "Téléchargement de http://example.com/fichier1.txt\n",
      "Téléchargement de http://example.com/fichier1.txt\n"
     ]
    },
    {
     "name": "stdout",
     "output_type": "stream",
     "text": [
      "Téléchargement de http://example.com/fichier1.txt terminé\n",
      "Téléchargement de http://example.com/fichier1.txt terminé\n",
      "Téléchargement de http://example.com/fichier1.txt terminé\n",
      "Téléchargement de http://example.com/fichier1.txt terminé\n",
      "Téléchargement de http://example.com/fichier1.txt terminé\n"
     ]
    }
   ],
   "source": [
    "thread1.start()\n",
    "thread2.start()\n",
    "thread3.start()\n",
    "thread4.start()\n",
    "thread5.start()"
   ]
  }
 ],
 "metadata": {
  "kernelspec": {
   "display_name": "Python 3",
   "language": "python",
   "name": "python3"
  },
  "language_info": {
   "codemirror_mode": {
    "name": "ipython",
    "version": 3
   },
   "file_extension": ".py",
   "mimetype": "text/x-python",
   "name": "python",
   "nbconvert_exporter": "python",
   "pygments_lexer": "ipython3",
   "version": "3.12.1"
  }
 },
 "nbformat": 4,
 "nbformat_minor": 2
}
